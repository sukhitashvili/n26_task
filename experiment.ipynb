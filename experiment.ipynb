{
 "cells": [
  {
   "cell_type": "code",
   "id": "8c01724a-5544-4d35-bf7f-144a3830a64d",
   "metadata": {
    "ExecuteTime": {
     "end_time": "2025-05-07T15:48:22.738772Z",
     "start_time": "2025-05-07T15:48:18.783157Z"
    }
   },
   "source": [
    "import json\n",
    "import os\n",
    "import warnings\n",
    "from pathlib import Path\n",
    "\n",
    "warnings.filterwarnings('ignore')\n",
    "\n",
    "from document_extractor import DocumentExtractor"
   ],
   "outputs": [],
   "execution_count": 1
  },
  {
   "metadata": {
    "ExecuteTime": {
     "end_time": "2025-05-07T15:48:30.755846Z",
     "start_time": "2025-05-07T15:48:22.825620Z"
    }
   },
   "cell_type": "code",
   "source": "document_reader = DocumentExtractor(model_id='google/gemma-3-4b-it')",
   "id": "8851b3fa83e3dc37",
   "outputs": [
    {
     "name": "stderr",
     "output_type": "stream",
     "text": [
      "Loading checkpoint shards: 100%|██████████| 2/2 [00:03<00:00,  1.63s/it]\n"
     ]
    }
   ],
   "execution_count": 2
  },
  {
   "metadata": {
    "ExecuteTime": {
     "end_time": "2025-05-07T15:48:30.771074Z",
     "start_time": "2025-05-07T15:48:30.766229Z"
    }
   },
   "cell_type": "code",
   "source": [
    "pdf_files = sorted(Path(os.path.join('documents', i)) for i in os.listdir(\"documents\"))\n",
    "pdf_files[:2]"
   ],
   "id": "6333bf99ec99857d",
   "outputs": [
    {
     "data": {
      "text/plain": [
       "[PosixPath('documents/doc-01.pdf'), PosixPath('documents/doc-02.pdf')]"
      ]
     },
     "execution_count": 3,
     "metadata": {},
     "output_type": "execute_result"
    }
   ],
   "execution_count": 3
  },
  {
   "metadata": {
    "ExecuteTime": {
     "end_time": "2025-05-07T15:53:53.466621Z",
     "start_time": "2025-05-07T15:48:30.856291Z"
    }
   },
   "cell_type": "code",
   "source": [
    "for pdf_path in pdf_files:\n",
    "    try:\n",
    "        result_dict = document_reader.extract(document_path=pdf_path)\n",
    "        print('-' * 30 + f' Document: {str(pdf_path)} ' + '-' * 30)\n",
    "        print(json.dumps(result_dict, indent=4))\n",
    "    except Exception as e:\n",
    "        print(f\"Exception occurred for {pdf_path}: {e}\")"
   ],
   "id": "8868d7b56365929d",
   "outputs": [
    {
     "name": "stderr",
     "output_type": "stream",
     "text": [
      "Asking to truncate to max_length but no maximum length is provided and the model has no predefined maximum length. Default to no truncation.\n"
     ]
    },
    {
     "name": "stdout",
     "output_type": "stream",
     "text": [
      "------------------------------ Document: documents/doc-01.pdf ------------------------------\n",
      "{\n",
      "    \"account_number\": \"DE89 3704 0044 0532 0130 00\",\n",
      "    \"account_type\": \"Checking Account\",\n",
      "    \"statement_period\": \"31. M\\u00e4rz 2025\",\n",
      "    \"opening_balance\": \"2.457,63 EUR\",\n",
      "    \"closing_balance\": \"2.457,63 EUR\",\n",
      "    \"available_balance\": \"2.457,63 EUR\",\n",
      "    \"transaction_number\": \"N/A\",\n",
      "    \"document_id\": \"KTO-DE-78901-2025\",\n",
      "    \"document_type\": \"personal account\",\n",
      "    \"document_date\": \"05.03.2025\",\n",
      "    \"customer_name\": \"Hannah Schmidt\",\n",
      "    \"customer_id\": \"K-78945612\",\n",
      "    \"institution_name\": \"Deutsche Sparkasse\",\n",
      "    \"institution_address\": \"Deutsche Sparkasse - Hauptzelle, Berliner Allee 33, 40212 D\\u00fcsseldorf, Deutschland\",\n",
      "    \"language\": \"German\"\n",
      "}\n"
     ]
    },
    {
     "ename": "ValueError",
     "evalue": "EOF while parsing a value at line 1 column 0",
     "output_type": "error",
     "traceback": [
      "\u001B[31m---------------------------------------------------------------------------\u001B[39m",
      "\u001B[31mValueError\u001B[39m                                Traceback (most recent call last)",
      "\u001B[36mCell\u001B[39m\u001B[36m \u001B[39m\u001B[32mIn[4]\u001B[39m\u001B[32m, line 2\u001B[39m\n\u001B[32m      1\u001B[39m \u001B[38;5;28;01mfor\u001B[39;00m pdf_path \u001B[38;5;129;01min\u001B[39;00m pdf_files:\n\u001B[32m----> \u001B[39m\u001B[32m2\u001B[39m     result_dict = \u001B[43mdocument_reader\u001B[49m\u001B[43m.\u001B[49m\u001B[43mextract\u001B[49m\u001B[43m(\u001B[49m\u001B[43mdocument_path\u001B[49m\u001B[43m=\u001B[49m\u001B[43mpdf_path\u001B[49m\u001B[43m)\u001B[49m\n\u001B[32m      3\u001B[39m     \u001B[38;5;28mprint\u001B[39m(\u001B[33m'\u001B[39m\u001B[33m-\u001B[39m\u001B[33m'\u001B[39m * \u001B[32m30\u001B[39m + \u001B[33mf\u001B[39m\u001B[33m'\u001B[39m\u001B[33m Document: \u001B[39m\u001B[38;5;132;01m{\u001B[39;00m\u001B[38;5;28mstr\u001B[39m(pdf_path)\u001B[38;5;132;01m}\u001B[39;00m\u001B[33m \u001B[39m\u001B[33m'\u001B[39m + \u001B[33m'\u001B[39m\u001B[33m-\u001B[39m\u001B[33m'\u001B[39m * \u001B[32m30\u001B[39m)\n\u001B[32m      4\u001B[39m     \u001B[38;5;28mprint\u001B[39m(json.dumps(result_dict, indent=\u001B[32m4\u001B[39m))\n",
      "\u001B[36mFile \u001B[39m\u001B[32m~/Desktop/personal/n26_task/document_extractor.py:43\u001B[39m, in \u001B[36mDocumentExtractor.extract\u001B[39m\u001B[34m(self, document_path)\u001B[39m\n\u001B[32m     41\u001B[39m document_type = \u001B[33m'\u001B[39m\u001B[33m_\u001B[39m\u001B[33m'\u001B[39m.join(document_type.split(\u001B[33m'\u001B[39m\u001B[33m \u001B[39m\u001B[33m'\u001B[39m))\n\u001B[32m     42\u001B[39m document_specific_fields = \u001B[38;5;28mself\u001B[39m.extraction_fields[document_type]\n\u001B[32m---> \u001B[39m\u001B[32m43\u001B[39m document_specific_information = \u001B[38;5;28;43mself\u001B[39;49m\u001B[43m.\u001B[49m\u001B[43mextract_document_specific_information\u001B[49m\u001B[43m(\u001B[49m\u001B[43mpil_img\u001B[49m\u001B[43m=\u001B[49m\u001B[43mwhole_document_image\u001B[49m\u001B[43m,\u001B[49m\n\u001B[32m     44\u001B[39m \u001B[43m                                                                           \u001B[49m\u001B[43mfields_to_extract\u001B[49m\u001B[43m=\u001B[49m\u001B[43mdocument_specific_fields\u001B[49m\u001B[43m)\u001B[49m\n\u001B[32m     45\u001B[39m document_specific_information.update(general_info)\n\u001B[32m     47\u001B[39m \u001B[38;5;28;01mreturn\u001B[39;00m document_specific_information\n",
      "\u001B[36mFile \u001B[39m\u001B[32m~/Desktop/personal/n26_task/document_extractor.py:61\u001B[39m, in \u001B[36mDocumentExtractor.extract_document_specific_information\u001B[39m\u001B[34m(self, pil_img, fields_to_extract)\u001B[39m\n\u001B[32m     58\u001B[39m prompt = \u001B[38;5;28mself\u001B[39m.generate_prompt(fields_names=fields_to_extract)\n\u001B[32m     59\u001B[39m information = \\\n\u001B[32m     60\u001B[39m     \u001B[38;5;28mself\u001B[39m.vision_llm(messages=prompt, images=[pil_img], max_new_tokens=\u001B[32m2000\u001B[39m)[\u001B[32m0\u001B[39m]\n\u001B[32m---> \u001B[39m\u001B[32m61\u001B[39m output_data = \u001B[38;5;28;43mself\u001B[39;49m\u001B[43m.\u001B[49m\u001B[43mread_json\u001B[49m\u001B[43m(\u001B[49m\u001B[43mtext\u001B[49m\u001B[43m=\u001B[49m\u001B[43minformation\u001B[49m\u001B[43m)\u001B[49m\n\u001B[32m     62\u001B[39m \u001B[38;5;28;01mreturn\u001B[39;00m output_data\n",
      "\u001B[36mFile \u001B[39m\u001B[32m~/Desktop/personal/n26_task/document_extractor.py:84\u001B[39m, in \u001B[36mDocumentExtractor.read_json\u001B[39m\u001B[34m(text)\u001B[39m\n\u001B[32m     82\u001B[39m idx_2 = text.find(\u001B[33m'\u001B[39m\u001B[33m}\u001B[39m\u001B[33m'\u001B[39m)\n\u001B[32m     83\u001B[39m the_json_str = text[idx_1:idx_2 + \u001B[32m1\u001B[39m]\n\u001B[32m---> \u001B[39m\u001B[32m84\u001B[39m the_json = \u001B[43mfrom_json\u001B[49m\u001B[43m(\u001B[49m\u001B[43mthe_json_str\u001B[49m\u001B[43m,\u001B[49m\u001B[43m \u001B[49m\u001B[43mallow_partial\u001B[49m\u001B[43m=\u001B[49m\u001B[38;5;28;43;01mTrue\u001B[39;49;00m\u001B[43m)\u001B[49m\n\u001B[32m     85\u001B[39m \u001B[38;5;28;01mreturn\u001B[39;00m the_json\n",
      "\u001B[31mValueError\u001B[39m: EOF while parsing a value at line 1 column 0"
     ]
    }
   ],
   "execution_count": 4
  },
  {
   "metadata": {},
   "cell_type": "code",
   "outputs": [],
   "execution_count": null,
   "source": "",
   "id": "74db7d78c5fc981e"
  }
 ],
 "metadata": {
  "kernelspec": {
   "display_name": "Python 3 (ipykernel)",
   "language": "python",
   "name": "python3"
  },
  "language_info": {
   "codemirror_mode": {
    "name": "ipython",
    "version": 3
   },
   "file_extension": ".py",
   "mimetype": "text/x-python",
   "name": "python",
   "nbconvert_exporter": "python",
   "pygments_lexer": "ipython3",
   "version": "3.12.2"
  }
 },
 "nbformat": 4,
 "nbformat_minor": 5
}
